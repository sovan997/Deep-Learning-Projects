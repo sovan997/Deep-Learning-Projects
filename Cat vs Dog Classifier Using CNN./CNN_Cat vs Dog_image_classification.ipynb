{
 "cells": [
  {
   "cell_type": "code",
   "execution_count": 2,
   "id": "1abdd4c0-2086-41d9-83c8-0631b9b25b8e",
   "metadata": {},
   "outputs": [
    {
     "name": "stderr",
     "output_type": "stream",
     "text": [
      "2024-04-04 20:45:52.648277: I external/local_tsl/tsl/cuda/cudart_stub.cc:32] Could not find cuda drivers on your machine, GPU will not be used.\n",
      "2024-04-04 20:45:52.838004: I external/local_tsl/tsl/cuda/cudart_stub.cc:32] Could not find cuda drivers on your machine, GPU will not be used.\n",
      "2024-04-04 20:45:53.511969: I tensorflow/core/platform/cpu_feature_guard.cc:210] This TensorFlow binary is optimized to use available CPU instructions in performance-critical operations.\n",
      "To enable the following instructions: AVX2 FMA, in other operations, rebuild TensorFlow with the appropriate compiler flags.\n",
      "2024-04-04 20:45:55.527675: W tensorflow/compiler/tf2tensorrt/utils/py_utils.cc:38] TF-TRT Warning: Could not find TensorRT\n"
     ]
    }
   ],
   "source": [
    "import numpy as np\n",
    "from tensorflow.keras.models import Sequential\n",
    "from tensorflow.keras.layers import Conv2D,MaxPooling2D,Dense,Flatten"
   ]
  },
  {
   "cell_type": "code",
   "execution_count": 3,
   "id": "2c04d11a-1120-41f1-ba1c-262f0d020a46",
   "metadata": {},
   "outputs": [],
   "source": [
    "X_train=np.loadtxt('input.csv', delimiter=',')\n",
    "Y_train=np.loadtxt('labels.csv', delimiter=',')\n",
    "\n",
    "X_test=np.loadtxt('input_test.csv', delimiter=',')\n",
    "Y_test=np.loadtxt('labels_test.csv', delimiter=',')"
   ]
  },
  {
   "cell_type": "code",
   "execution_count": 4,
   "id": "a62ab76a-1c7c-4d88-8921-65c6c0598ed6",
   "metadata": {},
   "outputs": [
    {
     "data": {
      "text/plain": [
       "(2000, 30000)"
      ]
     },
     "execution_count": 4,
     "metadata": {},
     "output_type": "execute_result"
    }
   ],
   "source": [
    "X_train.shape"
   ]
  },
  {
   "cell_type": "code",
   "execution_count": 5,
   "id": "4cabdaf9-db41-429f-93a0-6077beabb0e5",
   "metadata": {},
   "outputs": [
    {
     "data": {
      "text/plain": [
       "array([[131., 128., 135., ...,  71.,  96.,  74.],\n",
       "       [ 80.,  92.,  88., ..., 124., 119.,  99.],\n",
       "       [149., 173., 151., ...,  56.,  56.,  66.],\n",
       "       ...,\n",
       "       [231., 226., 230., ...,  62.,  65.,  72.],\n",
       "       [ 61.,  61.,  63., ..., 135., 123., 123.],\n",
       "       [ 64.,  31.,  12., ...,  61.,  49.,  35.]])"
      ]
     },
     "execution_count": 5,
     "metadata": {},
     "output_type": "execute_result"
    }
   ],
   "source": [
    "X_train[1:]"
   ]
  },
  {
   "cell_type": "code",
   "execution_count": 6,
   "id": "1b48a7e6-f00b-4f52-918b-b68e2aabb1ac",
   "metadata": {},
   "outputs": [],
   "source": [
    "#Reshape data\n",
    "X_train = X_train.reshape(len(X_train), 100, 100, 3)\n",
    "Y_train = Y_train.reshape(len(Y_train), 1)\n",
    "\n",
    "X_test = X_test.reshape(len(X_test), 100, 100, 3)\n",
    "Y_test = Y_test.reshape(len(Y_test), 1)\n",
    "\n",
    "\n",
    "#add values between 0 and 1\n",
    "X_train=X_train/255\n",
    "X_test=X_test/255"
   ]
  },
  {
   "cell_type": "code",
   "execution_count": 7,
   "id": "1a3b7c36-3bd2-4316-b3ca-72815be59ee5",
   "metadata": {},
   "outputs": [
    {
     "data": {
      "text/plain": [
       "array([[[[0.51372549, 0.50196078, 0.52941176],\n",
       "         [0.62745098, 0.61568627, 0.64313725],\n",
       "         [0.77647059, 0.75294118, 0.8       ],\n",
       "         ...,\n",
       "         [0.98039216, 0.97647059, 0.96862745],\n",
       "         [1.        , 1.        , 0.99215686],\n",
       "         [0.98039216, 0.97647059, 0.96078431]],\n",
       "\n",
       "        [[0.54901961, 0.5372549 , 0.56470588],\n",
       "         [0.49803922, 0.48627451, 0.51372549],\n",
       "         [0.47058824, 0.44705882, 0.48627451],\n",
       "         ...,\n",
       "         [0.98431373, 0.99215686, 0.98823529],\n",
       "         [0.99607843, 1.        , 0.99215686],\n",
       "         [0.99607843, 1.        , 0.98431373]],\n",
       "\n",
       "        [[0.8       , 0.79215686, 0.81176471],\n",
       "         [0.73333333, 0.7254902 , 0.74509804],\n",
       "         [0.57647059, 0.55686275, 0.58039216],\n",
       "         ...,\n",
       "         [0.97647059, 1.        , 1.        ],\n",
       "         [0.93333333, 0.96862745, 0.94901961],\n",
       "         [0.90980392, 0.94509804, 0.9254902 ]],\n",
       "\n",
       "        ...,\n",
       "\n",
       "        [[0.68235294, 0.71372549, 0.76470588],\n",
       "         [0.6745098 , 0.70588235, 0.75686275],\n",
       "         [0.69803922, 0.72941176, 0.77254902],\n",
       "         ...,\n",
       "         [0.34117647, 0.44705882, 0.38039216],\n",
       "         [0.29411765, 0.38823529, 0.3254902 ],\n",
       "         [0.31372549, 0.41176471, 0.3372549 ]],\n",
       "\n",
       "        [[0.65098039, 0.67843137, 0.74117647],\n",
       "         [0.64313725, 0.6745098 , 0.7254902 ],\n",
       "         [0.6745098 , 0.70588235, 0.75686275],\n",
       "         ...,\n",
       "         [0.30588235, 0.41568627, 0.32941176],\n",
       "         [0.28235294, 0.38039216, 0.29803922],\n",
       "         [0.30196078, 0.4       , 0.31764706]],\n",
       "\n",
       "        [[0.67843137, 0.70588235, 0.76862745],\n",
       "         [0.6745098 , 0.70196078, 0.76470588],\n",
       "         [0.68235294, 0.71372549, 0.76470588],\n",
       "         ...,\n",
       "         [0.24705882, 0.35686275, 0.27058824],\n",
       "         [0.24313725, 0.34117647, 0.25490196],\n",
       "         [0.27843137, 0.37647059, 0.29019608]]],\n",
       "\n",
       "\n",
       "       [[[0.31372549, 0.36078431, 0.34509804],\n",
       "         [0.3254902 , 0.37647059, 0.34901961],\n",
       "         [0.29803922, 0.36078431, 0.32156863],\n",
       "         ...,\n",
       "         [0.05490196, 0.1372549 , 0.07843137],\n",
       "         [0.05490196, 0.1372549 , 0.07843137],\n",
       "         [0.07843137, 0.16078431, 0.10196078]],\n",
       "\n",
       "        [[0.30588235, 0.34117647, 0.32941176],\n",
       "         [0.35294118, 0.39607843, 0.37254902],\n",
       "         [0.30980392, 0.35294118, 0.32156863],\n",
       "         ...,\n",
       "         [0.14509804, 0.21176471, 0.14901961],\n",
       "         [0.12156863, 0.18823529, 0.1254902 ],\n",
       "         [0.05098039, 0.11764706, 0.05490196]],\n",
       "\n",
       "        [[0.25098039, 0.25882353, 0.24705882],\n",
       "         [0.31372549, 0.33333333, 0.30980392],\n",
       "         [0.36470588, 0.39215686, 0.36078431],\n",
       "         ...,\n",
       "         [0.15686275, 0.18039216, 0.1254902 ],\n",
       "         [0.15686275, 0.18823529, 0.12941176],\n",
       "         [0.05490196, 0.08627451, 0.02745098]],\n",
       "\n",
       "        ...,\n",
       "\n",
       "        [[0.39215686, 0.42745098, 0.36078431],\n",
       "         [0.36470588, 0.41568627, 0.3372549 ],\n",
       "         [0.35294118, 0.43137255, 0.33333333],\n",
       "         ...,\n",
       "         [0.6745098 , 0.65490196, 0.58039216],\n",
       "         [0.63137255, 0.61176471, 0.5372549 ],\n",
       "         [0.56862745, 0.54901961, 0.4745098 ]],\n",
       "\n",
       "        [[0.38823529, 0.43137255, 0.36470588],\n",
       "         [0.37647059, 0.42745098, 0.34901961],\n",
       "         [0.36078431, 0.43921569, 0.34117647],\n",
       "         ...,\n",
       "         [0.58823529, 0.56862745, 0.49411765],\n",
       "         [0.52156863, 0.50196078, 0.42352941],\n",
       "         [0.57254902, 0.55294118, 0.4745098 ]],\n",
       "\n",
       "        [[0.41568627, 0.45882353, 0.39215686],\n",
       "         [0.4       , 0.45882353, 0.37647059],\n",
       "         [0.36862745, 0.44705882, 0.34901961],\n",
       "         ...,\n",
       "         [0.52156863, 0.50196078, 0.42745098],\n",
       "         [0.46666667, 0.44705882, 0.36862745],\n",
       "         [0.48627451, 0.46666667, 0.38823529]]],\n",
       "\n",
       "\n",
       "       [[[0.58431373, 0.67843137, 0.59215686],\n",
       "         [0.51372549, 0.6       , 0.51764706],\n",
       "         [0.61176471, 0.67843137, 0.60784314],\n",
       "         ...,\n",
       "         [0.71372549, 0.79607843, 0.6745098 ],\n",
       "         [0.74901961, 0.83137255, 0.70980392],\n",
       "         [0.72941176, 0.81176471, 0.69019608]],\n",
       "\n",
       "        [[0.36862745, 0.45490196, 0.37254902],\n",
       "         [0.46666667, 0.54117647, 0.4627451 ],\n",
       "         [0.57647059, 0.63529412, 0.56078431],\n",
       "         ...,\n",
       "         [0.71372549, 0.79215686, 0.68627451],\n",
       "         [0.76862745, 0.84705882, 0.74117647],\n",
       "         [0.77647059, 0.85490196, 0.74901961]],\n",
       "\n",
       "        [[0.23137255, 0.29019608, 0.20784314],\n",
       "         [0.48235294, 0.54117647, 0.45882353],\n",
       "         [0.67058824, 0.71764706, 0.63921569],\n",
       "         ...,\n",
       "         [0.70588235, 0.78823529, 0.71372549],\n",
       "         [0.76078431, 0.84313725, 0.76862745],\n",
       "         [0.78823529, 0.87058824, 0.79607843]],\n",
       "\n",
       "        ...,\n",
       "\n",
       "        [[0.43137255, 0.48235294, 0.55686275],\n",
       "         [0.4       , 0.45098039, 0.5254902 ],\n",
       "         [0.2627451 , 0.31372549, 0.38823529],\n",
       "         ...,\n",
       "         [0.11764706, 0.11764706, 0.15686275],\n",
       "         [0.10980392, 0.10980392, 0.14901961],\n",
       "         [0.11372549, 0.11372549, 0.15294118]],\n",
       "\n",
       "        [[0.42352941, 0.48235294, 0.55686275],\n",
       "         [0.4745098 , 0.53333333, 0.60784314],\n",
       "         [0.39607843, 0.45490196, 0.52941176],\n",
       "         ...,\n",
       "         [0.15686275, 0.15686275, 0.19607843],\n",
       "         [0.16078431, 0.16078431, 0.2       ],\n",
       "         [0.17254902, 0.17254902, 0.21176471]],\n",
       "\n",
       "        [[0.42352941, 0.48235294, 0.55686275],\n",
       "         [0.34117647, 0.4       , 0.4745098 ],\n",
       "         [0.37254902, 0.43137255, 0.50588235],\n",
       "         ...,\n",
       "         [0.18823529, 0.18823529, 0.22745098],\n",
       "         [0.2       , 0.2       , 0.23921569],\n",
       "         [0.21960784, 0.21960784, 0.25882353]]],\n",
       "\n",
       "\n",
       "       ...,\n",
       "\n",
       "\n",
       "       [[[0.90588235, 0.88627451, 0.90196078],\n",
       "         [0.9372549 , 0.92156863, 0.9254902 ],\n",
       "         [0.95294118, 0.9372549 , 0.93333333],\n",
       "         ...,\n",
       "         [0.92941176, 0.89411765, 0.83529412],\n",
       "         [0.76470588, 0.7254902 , 0.67843137],\n",
       "         [0.83921569, 0.8       , 0.75294118]],\n",
       "\n",
       "        [[0.95686275, 0.93333333, 0.94901961],\n",
       "         [0.8627451 , 0.84705882, 0.85098039],\n",
       "         [0.97254902, 0.95294118, 0.94117647],\n",
       "         ...,\n",
       "         [0.91764706, 0.87058824, 0.80784314],\n",
       "         [0.72156863, 0.6745098 , 0.61960784],\n",
       "         [0.76078431, 0.71372549, 0.65882353]],\n",
       "\n",
       "        [[0.91372549, 0.87843137, 0.89019608],\n",
       "         [0.85098039, 0.82745098, 0.82745098],\n",
       "         [0.9372549 , 0.90588235, 0.89411765],\n",
       "         ...,\n",
       "         [0.94509804, 0.87843137, 0.81568627],\n",
       "         [0.79607843, 0.72941176, 0.66666667],\n",
       "         [0.82352941, 0.75686275, 0.69411765]],\n",
       "\n",
       "        ...,\n",
       "\n",
       "        [[0.03137255, 0.00784314, 0.00784314],\n",
       "         [0.03921569, 0.02352941, 0.01960784],\n",
       "         [0.05098039, 0.03529412, 0.02352941],\n",
       "         ...,\n",
       "         [0.29803922, 0.30980392, 0.3372549 ],\n",
       "         [0.27058824, 0.28235294, 0.30980392],\n",
       "         [0.25882353, 0.27058824, 0.29803922]],\n",
       "\n",
       "        [[0.18823529, 0.17254902, 0.16862745],\n",
       "         [0.19215686, 0.18823529, 0.18039216],\n",
       "         [0.19607843, 0.19215686, 0.18431373],\n",
       "         ...,\n",
       "         [0.29411765, 0.30588235, 0.33333333],\n",
       "         [0.27058824, 0.28235294, 0.30980392],\n",
       "         [0.25490196, 0.26666667, 0.29411765]],\n",
       "\n",
       "        [[0.25882353, 0.25490196, 0.24705882],\n",
       "         [0.27058824, 0.26666667, 0.25882353],\n",
       "         [0.2745098 , 0.2745098 , 0.26666667],\n",
       "         ...,\n",
       "         [0.29019608, 0.30196078, 0.32941176],\n",
       "         [0.26666667, 0.27843137, 0.30588235],\n",
       "         [0.24313725, 0.25490196, 0.28235294]]],\n",
       "\n",
       "\n",
       "       [[[0.23921569, 0.23921569, 0.24705882],\n",
       "         [0.09411765, 0.09019608, 0.10980392],\n",
       "         [0.09803922, 0.09803922, 0.12941176],\n",
       "         ...,\n",
       "         [0.18431373, 0.2       , 0.20392157],\n",
       "         [0.17647059, 0.19215686, 0.19607843],\n",
       "         [0.17647059, 0.19215686, 0.19607843]],\n",
       "\n",
       "        [[0.04313725, 0.04705882, 0.05490196],\n",
       "         [0.0627451 , 0.07843137, 0.08235294],\n",
       "         [0.07058824, 0.08235294, 0.10980392],\n",
       "         ...,\n",
       "         [0.25882353, 0.2745098 , 0.27843137],\n",
       "         [0.23921569, 0.25490196, 0.26666667],\n",
       "         [0.23137255, 0.24705882, 0.25098039]],\n",
       "\n",
       "        [[0.01176471, 0.04705882, 0.03529412],\n",
       "         [0.06666667, 0.10196078, 0.09019608],\n",
       "         [0.13333333, 0.16470588, 0.17647059],\n",
       "         ...,\n",
       "         [0.32941176, 0.34901961, 0.36078431],\n",
       "         [0.29019608, 0.30980392, 0.3254902 ],\n",
       "         [0.2745098 , 0.29411765, 0.30588235]],\n",
       "\n",
       "        ...,\n",
       "\n",
       "        [[0.57647059, 0.56862745, 0.62352941],\n",
       "         [0.53333333, 0.52156863, 0.58823529],\n",
       "         [0.51764706, 0.50588235, 0.57254902],\n",
       "         ...,\n",
       "         [0.48627451, 0.43137255, 0.41960784],\n",
       "         [0.45098039, 0.39607843, 0.38431373],\n",
       "         [0.50980392, 0.45490196, 0.44313725]],\n",
       "\n",
       "        [[0.54509804, 0.53333333, 0.6       ],\n",
       "         [0.50588235, 0.49411765, 0.56078431],\n",
       "         [0.50196078, 0.49019608, 0.56470588],\n",
       "         ...,\n",
       "         [0.45882353, 0.40392157, 0.4       ],\n",
       "         [0.36862745, 0.31372549, 0.30980392],\n",
       "         [0.43529412, 0.39215686, 0.38431373]],\n",
       "\n",
       "        [[0.52941176, 0.51764706, 0.58431373],\n",
       "         [0.47843137, 0.46666667, 0.53333333],\n",
       "         [0.56078431, 0.54901961, 0.63137255],\n",
       "         ...,\n",
       "         [0.58431373, 0.52941176, 0.52941176],\n",
       "         [0.48235294, 0.43529412, 0.43529412],\n",
       "         [0.52941176, 0.48235294, 0.48235294]]],\n",
       "\n",
       "\n",
       "       [[[0.25098039, 0.12156863, 0.04705882],\n",
       "         [0.4627451 , 0.24705882, 0.16470588],\n",
       "         [0.76470588, 0.36470588, 0.27843137],\n",
       "         ...,\n",
       "         [0.3372549 , 0.17647059, 0.09803922],\n",
       "         [0.32941176, 0.18039216, 0.09803922],\n",
       "         [0.33333333, 0.18431373, 0.10196078]],\n",
       "\n",
       "        [[0.21568627, 0.11372549, 0.04705882],\n",
       "         [0.34509804, 0.15686275, 0.07843137],\n",
       "         [0.69803922, 0.31372549, 0.21568627],\n",
       "         ...,\n",
       "         [0.35686275, 0.19215686, 0.09803922],\n",
       "         [0.34117647, 0.18431373, 0.08627451],\n",
       "         [0.33333333, 0.17647059, 0.07843137]],\n",
       "\n",
       "        [[0.16862745, 0.12156863, 0.05882353],\n",
       "         [0.29803922, 0.15294118, 0.07843137],\n",
       "         [0.6       , 0.24705882, 0.14117647],\n",
       "         ...,\n",
       "         [0.37647059, 0.2       , 0.08627451],\n",
       "         [0.35294118, 0.17647059, 0.0627451 ],\n",
       "         [0.3372549 , 0.16078431, 0.04705882]],\n",
       "\n",
       "        ...,\n",
       "\n",
       "        [[0.51764706, 0.43529412, 0.32156863],\n",
       "         [0.50196078, 0.41960784, 0.30588235],\n",
       "         [0.56078431, 0.48627451, 0.36862745],\n",
       "         ...,\n",
       "         [0.35686275, 0.30588235, 0.23921569],\n",
       "         [0.29019608, 0.23529412, 0.18431373],\n",
       "         [0.25098039, 0.19607843, 0.14509804]],\n",
       "\n",
       "        [[0.47058824, 0.38823529, 0.2745098 ],\n",
       "         [0.50588235, 0.42352941, 0.30980392],\n",
       "         [0.53333333, 0.45882353, 0.34117647],\n",
       "         ...,\n",
       "         [0.44313725, 0.39215686, 0.3254902 ],\n",
       "         [0.29803922, 0.24313725, 0.19215686],\n",
       "         [0.25882353, 0.21176471, 0.15686275]],\n",
       "\n",
       "        [[0.49019608, 0.40784314, 0.29411765],\n",
       "         [0.5254902 , 0.44313725, 0.32941176],\n",
       "         [0.47843137, 0.40392157, 0.28627451],\n",
       "         ...,\n",
       "         [0.43529412, 0.38431373, 0.31764706],\n",
       "         [0.2745098 , 0.22745098, 0.17254902],\n",
       "         [0.23921569, 0.19215686, 0.1372549 ]]]])"
      ]
     },
     "execution_count": 7,
     "metadata": {},
     "output_type": "execute_result"
    }
   ],
   "source": [
    "X_train[1:]"
   ]
  },
  {
   "cell_type": "code",
   "execution_count": 33,
   "id": "6b24d9e8-d7e4-42f8-b3d4-14f9335ac222",
   "metadata": {},
   "outputs": [
    {
     "data": {
      "image/png": "[encoded data removed]",
      "text/plain": [
       "<Figure size 640x480 with 1 Axes>"
      ]
     },
     "metadata": {},
     "output_type": "display_data"
    }
   ],
   "source": [
    "import random\n",
    "import matplotlib.pyplot as plt\n",
    "\n",
    "index = random.randint(0, len(X_train))\n",
    "plt.imshow(X_train[index, :])\n",
    "plt.show()"
   ]
  },
  {
   "cell_type": "code",
   "execution_count": 11,
   "id": "97461824-f176-46fa-aa27-86a4f43e4d4b",
   "metadata": {},
   "outputs": [
    {
     "name": "stderr",
     "output_type": "stream",
     "text": [
      "/home/sovan/.local/lib/python3.10/site-packages/keras/src/layers/convolutional/base_conv.py:99: UserWarning: Do not pass an `input_shape`/`input_dim` argument to a layer. When using Sequential models, prefer using an `Input(shape)` object as the first layer in the model instead.\n",
      "  super().__init__(\n"
     ]
    }
   ],
   "source": [
    "#Build the Neural Network\n",
    "\n",
    "model=Sequential([\n",
    "    Conv2D(32,(3,3),activation='relu',input_shape=(100,100,3)), #32 filters and (3,3) size filters\n",
    "    MaxPooling2D((2,2)), #2*2 size filter\n",
    "\n",
    "    Conv2D(32,(3,3),activation='relu'),\n",
    "    MaxPooling2D((2,2)),\n",
    "\n",
    "    Flatten(),\n",
    "    Dense(64,activation='relu'),#64 neurons\n",
    "    Dense(1,activation='sigmoid')\n",
    "])\n",
    "    "
   ]
  },
  {
   "cell_type": "code",
   "execution_count": 12,
   "id": "56900ad5-f2c6-48fd-8986-ae6c6f6c31eb",
   "metadata": {},
   "outputs": [],
   "source": [
    "model.compile(loss = 'binary_crossentropy', optimizer = 'adam', metrics = ['accuracy']) #backpropagation"
   ]
  },
  {
   "cell_type": "code",
   "execution_count": 13,
   "id": "717b2168-6add-4a73-b0c1-179682f9232d",
   "metadata": {},
   "outputs": [
    {
     "name": "stdout",
     "output_type": "stream",
     "text": [
      "Epoch 1/10\n"
     ]
    },
    {
     "name": "stderr",
     "output_type": "stream",
     "text": [
      "2024-04-04 20:46:59.055105: W external/local_tsl/tsl/framework/cpu_allocator_impl.cc:83] Allocation of 240000000 exceeds 10% of free system memory.\n",
      "2024-04-04 20:47:01.107261: W external/local_tsl/tsl/framework/cpu_allocator_impl.cc:83] Allocation of 61465600 exceeds 10% of free system memory.\n",
      "2024-04-04 20:47:01.325147: W external/local_tsl/tsl/framework/cpu_allocator_impl.cc:83] Allocation of 27992448 exceeds 10% of free system memory.\n",
      "2024-04-04 20:47:01.457930: W external/local_tsl/tsl/framework/cpu_allocator_impl.cc:83] Allocation of 30732800 exceeds 10% of free system memory.\n",
      "2024-04-04 20:47:01.458074: W external/local_tsl/tsl/framework/cpu_allocator_impl.cc:83] Allocation of 61465600 exceeds 10% of free system memory.\n"
     ]
    },
    {
     "name": "stdout",
     "output_type": "stream",
     "text": [
      "\u001b[1m40/40\u001b[0m \u001b[32m━━━━━━━━━━━━━━━━━━━━\u001b[0m\u001b[37m\u001b[0m \u001b[1m18s\u001b[0m 414ms/step - accuracy: 0.5096 - loss: 0.8227\n",
      "Epoch 2/10\n",
      "\u001b[1m40/40\u001b[0m \u001b[32m━━━━━━━━━━━━━━━━━━━━\u001b[0m\u001b[37m\u001b[0m \u001b[1m16s\u001b[0m 410ms/step - accuracy: 0.5978 - loss: 0.6693\n",
      "Epoch 3/10\n",
      "\u001b[1m40/40\u001b[0m \u001b[32m━━━━━━━━━━━━━━━━━━━━\u001b[0m\u001b[37m\u001b[0m \u001b[1m21s\u001b[0m 410ms/step - accuracy: 0.6868 - loss: 0.5844\n",
      "Epoch 4/10\n",
      "\u001b[1m40/40\u001b[0m \u001b[32m━━━━━━━━━━━━━━━━━━━━\u001b[0m\u001b[37m\u001b[0m \u001b[1m20s\u001b[0m 411ms/step - accuracy: 0.7151 - loss: 0.5628\n",
      "Epoch 5/10\n",
      "\u001b[1m40/40\u001b[0m \u001b[32m━━━━━━━━━━━━━━━━━━━━\u001b[0m\u001b[37m\u001b[0m \u001b[1m20s\u001b[0m 412ms/step - accuracy: 0.7751 - loss: 0.4769\n",
      "Epoch 6/10\n",
      "\u001b[1m40/40\u001b[0m \u001b[32m━━━━━━━━━━━━━━━━━━━━\u001b[0m\u001b[37m\u001b[0m \u001b[1m17s\u001b[0m 412ms/step - accuracy: 0.8249 - loss: 0.4181\n",
      "Epoch 7/10\n",
      "\u001b[1m40/40\u001b[0m \u001b[32m━━━━━━━━━━━━━━━━━━━━\u001b[0m\u001b[37m\u001b[0m \u001b[1m17s\u001b[0m 412ms/step - accuracy: 0.8317 - loss: 0.3846\n",
      "Epoch 8/10\n",
      "\u001b[1m40/40\u001b[0m \u001b[32m━━━━━━━━━━━━━━━━━━━━\u001b[0m\u001b[37m\u001b[0m \u001b[1m17s\u001b[0m 414ms/step - accuracy: 0.8761 - loss: 0.3005\n",
      "Epoch 9/10\n",
      "\u001b[1m40/40\u001b[0m \u001b[32m━━━━━━━━━━━━━━━━━━━━\u001b[0m\u001b[37m\u001b[0m \u001b[1m17s\u001b[0m 415ms/step - accuracy: 0.8980 - loss: 0.2610\n",
      "Epoch 10/10\n",
      "\u001b[1m40/40\u001b[0m \u001b[32m━━━━━━━━━━━━━━━━━━━━\u001b[0m\u001b[37m\u001b[0m \u001b[1m17s\u001b[0m 425ms/step - accuracy: 0.9428 - loss: 0.1859\n"
     ]
    },
    {
     "data": {
      "text/plain": [
       "<keras.src.callbacks.history.History at 0x70f27071dd80>"
      ]
     },
     "execution_count": 13,
     "metadata": {},
     "output_type": "execute_result"
    }
   ],
   "source": [
    "model.fit(X_train,Y_train, epochs=10, batch_size=50)   #Model training"
   ]
  },
  {
   "cell_type": "code",
   "execution_count": 14,
   "id": "eb26ec8d-857d-464e-9a24-b8819e5484a7",
   "metadata": {},
   "outputs": [
    {
     "name": "stdout",
     "output_type": "stream",
     "text": [
      "\u001b[1m13/13\u001b[0m \u001b[32m━━━━━━━━━━━━━━━━━━━━\u001b[0m\u001b[37m\u001b[0m \u001b[1m1s\u001b[0m 70ms/step - accuracy: 0.6911 - loss: 0.8087\n"
     ]
    },
    {
     "data": {
      "text/plain": [
       "[0.7489089965820312, 0.6899999976158142]"
      ]
     },
     "execution_count": 14,
     "metadata": {},
     "output_type": "execute_result"
    }
   ],
   "source": [
    "model.evaluate(X_test,Y_test)   #test dataset size was small"
   ]
  },
  {
   "cell_type": "code",
   "execution_count": 25,
   "id": "eae888c8-ba05-4dcf-b99b-3983d2a0c903",
   "metadata": {},
   "outputs": [
    {
     "data": {
      "image/png": "[encoded data removed]",
      "text/plain": [
       "<Figure size 640x480 with 1 Axes>"
      ]
     },
     "metadata": {},
     "output_type": "display_data"
    },
    {
     "name": "stdout",
     "output_type": "stream",
     "text": [
      "\u001b[1m1/1\u001b[0m \u001b[32m━━━━━━━━━━━━━━━━━━━━\u001b[0m\u001b[37m\u001b[0m \u001b[1m0s\u001b[0m 24ms/step\n",
      "Our model says it is a : cat\n"
     ]
    }
   ],
   "source": [
    "#predict a new image\n",
    "\n",
    "index1 = random.randint(0, len(Y_test))\n",
    "plt.imshow(X_test[index1, :])\n",
    "plt.show()\n",
    "\n",
    "y_pred = model.predict(X_test[index1, :].reshape(1, 100, 100, 3))\n",
    "y_pred = y_pred > 0.5\n",
    "\n",
    "if(y_pred == 0):\n",
    "    result = 'dog'\n",
    "else:\n",
    "    result = 'cat'\n",
    "    \n",
    "print(\"Our model says it is a :\", result)"
   ]
  }
 ],
 "metadata": {
  "kernelspec": {
   "display_name": "Python 3 (ipykernel)",
   "language": "python",
   "name": "python3"
  },
  "language_info": {
   "codemirror_mode": {
    "name": "ipython",
    "version": 3
   },
   "file_extension": ".py",
   "mimetype": "text/x-python",
   "name": "python",
   "nbconvert_exporter": "python",
   "pygments_lexer": "ipython3",
   "version": "3.10.12"
  }
 },
 "nbformat": 4,
 "nbformat_minor": 5
}
